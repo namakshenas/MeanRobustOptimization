{
 "cells": [
  {
   "cell_type": "code",
   "execution_count": 2,
   "id": "2d7eb402",
   "metadata": {},
   "outputs": [],
   "source": [
    "import warnings\n",
    "warnings.filterwarnings('ignore')\n",
    "\n",
    "import pandas as pd\n",
    "import numpy as np\n",
    "import numpy.linalg as npl\n",
    "import numpy.random as npr\n",
    "\n",
    "\n",
    "import scipy.linalg as la\n",
    "\n",
    "\n",
    "from sklearn.model_selection import train_test_split\n",
    "from sklearn.cluster import KMeans\n",
    "\n",
    "import cvxpy as cp\n",
    "from cvxpylayers.torch import CvxpyLayer\n",
    "\n",
    "import matplotlib.pyplot as plt\n",
    "\n",
    "import pandas as pd\n",
    "\n",
    "from pathlib import Path  \n",
    "\n",
    "import sys\n",
    "import time\n",
    "output_stream = sys.stdout\n",
    "\n",
    "import gurobipy as gp\n",
    "from gurobipy import GRB\n",
    "\n",
    "import time\n",
    "colors = [\"tab:blue\", \"tab:orange\", \"tab:green\",\n",
    "          \"tab:red\", \"tab:purple\", \"tab:brown\", \"tab:pink\", \"tab:grey\", \"tab:olive\",\"tab:blue\", \"tab:orange\", \"tab:green\",\n",
    "          \"tab:red\", \"tab:purple\", \"tab:brown\", \"tab:pink\", \"tab:grey\", \"tab:olive\"] "
   ]
  },
  {
   "cell_type": "code",
   "execution_count": 3,
   "id": "fde83bb1",
   "metadata": {},
   "outputs": [],
   "source": [
    "Opt_vals = np.load(\"Opt_vals0.npy\")"
   ]
  },
  {
   "cell_type": "code",
   "execution_count": 6,
   "id": "0437e5e5",
   "metadata": {},
   "outputs": [],
   "source": [
    "solvetimes = np.load(\"solvetimes0.npy\")"
   ]
  },
  {
   "cell_type": "code",
   "execution_count": null,
   "id": "86c50d22",
   "metadata": {},
   "outputs": [],
   "source": []
  }
 ],
 "metadata": {
  "kernelspec": {
   "display_name": "Python 3",
   "language": "python",
   "name": "python3"
  },
  "language_info": {
   "codemirror_mode": {
    "name": "ipython",
    "version": 3
   },
   "file_extension": ".py",
   "mimetype": "text/x-python",
   "name": "python",
   "nbconvert_exporter": "python",
   "pygments_lexer": "ipython3",
   "version": "3.7.2"
  }
 },
 "nbformat": 4,
 "nbformat_minor": 5
}
